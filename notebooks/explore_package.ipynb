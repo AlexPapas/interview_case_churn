{
 "cells": [
  {
   "cell_type": "code",
   "execution_count": 1,
   "metadata": {},
   "outputs": [],
   "source": [
    "from churn.parsing import DataManager\n",
    "from churn.model import ChurnModel\n",
    "from pathlib import Path\n",
    "import yaml\n",
    "from churn.logger import logger"
   ]
  },
  {
   "cell_type": "code",
   "execution_count": 2,
   "metadata": {},
   "outputs": [],
   "source": [
    "RAW_DATA_PATH = Path(\".\").absolute().parent / \"data/input/case_churn.csv\"\n",
    "CONFIG_PATH = Path(\".\").absolute().parent / \"config/config.yml\"\n",
    "MODEL_PATH = Path(\".\").absolute().parent / \"artefacts/models/model.joblib\"\n",
    "REPORT_FOLDER_PATH = Path(\".\").absolute().parent / \"artefacts/reports/model.joblib\""
   ]
  },
  {
   "cell_type": "code",
   "execution_count": 3,
   "metadata": {},
   "outputs": [],
   "source": [
    "with open(CONFIG_PATH) as f:\n",
    "    config = yaml.safe_load(f)"
   ]
  },
  {
   "attachments": {},
   "cell_type": "markdown",
   "metadata": {},
   "source": [
    "## Load data"
   ]
  },
  {
   "cell_type": "code",
   "execution_count": 4,
   "metadata": {},
   "outputs": [
    {
     "name": "stderr",
     "output_type": "stream",
     "text": [
      "INFO [ 2023-01-01 21:41:30,798 | parsing.py | __init__ ] DataManager initialized.\n",
      "INFO [ 2023-01-01 21:41:30,799 | parsing.py | data ] Processing raw data.\n",
      "INFO [ 2023-01-01 21:41:30,800 | parsing.py | raw_data ] Reading raw data.\n",
      "INFO [ 2023-01-01 21:41:30,819 | parsing.py | raw_data ] Reading raw data.\n"
     ]
    },
    {
     "data": {
      "text/html": [
       "<div>\n",
       "<style scoped>\n",
       "    .dataframe tbody tr th:only-of-type {\n",
       "        vertical-align: middle;\n",
       "    }\n",
       "\n",
       "    .dataframe tbody tr th {\n",
       "        vertical-align: top;\n",
       "    }\n",
       "\n",
       "    .dataframe thead th {\n",
       "        text-align: right;\n",
       "    }\n",
       "</style>\n",
       "<table border=\"1\" class=\"dataframe\">\n",
       "  <thead>\n",
       "    <tr style=\"text-align: right;\">\n",
       "      <th></th>\n",
       "      <th>customerid</th>\n",
       "      <th>gender</th>\n",
       "      <th>seniorcitizen</th>\n",
       "      <th>partner</th>\n",
       "      <th>dependents</th>\n",
       "      <th>age</th>\n",
       "      <th>tenure</th>\n",
       "      <th>busines_loan</th>\n",
       "      <th>multiplebusinessloans</th>\n",
       "      <th>creditline</th>\n",
       "      <th>...</th>\n",
       "      <th>mortgage</th>\n",
       "      <th>stocks</th>\n",
       "      <th>forex</th>\n",
       "      <th>contract</th>\n",
       "      <th>paperlessbilling</th>\n",
       "      <th>paymentmethod</th>\n",
       "      <th>monthlycharges</th>\n",
       "      <th>totalcharges</th>\n",
       "      <th>churn_within_a_month</th>\n",
       "      <th>satisfactory_onboarding_form</th>\n",
       "    </tr>\n",
       "  </thead>\n",
       "  <tbody>\n",
       "    <tr>\n",
       "      <th>0</th>\n",
       "      <td>1</td>\n",
       "      <td>Female</td>\n",
       "      <td>0</td>\n",
       "      <td>Yes</td>\n",
       "      <td>No</td>\n",
       "      <td>35</td>\n",
       "      <td>1</td>\n",
       "      <td>No</td>\n",
       "      <td>NaN</td>\n",
       "      <td>B</td>\n",
       "      <td>...</td>\n",
       "      <td>No</td>\n",
       "      <td>No</td>\n",
       "      <td>No</td>\n",
       "      <td>A</td>\n",
       "      <td>Yes</td>\n",
       "      <td>Electronic check</td>\n",
       "      <td>29.85</td>\n",
       "      <td>29.85</td>\n",
       "      <td>No</td>\n",
       "      <td>4</td>\n",
       "    </tr>\n",
       "    <tr>\n",
       "      <th>1</th>\n",
       "      <td>2</td>\n",
       "      <td>Male</td>\n",
       "      <td>0</td>\n",
       "      <td>No</td>\n",
       "      <td>No</td>\n",
       "      <td>46</td>\n",
       "      <td>34</td>\n",
       "      <td>Yes</td>\n",
       "      <td>No</td>\n",
       "      <td>B</td>\n",
       "      <td>...</td>\n",
       "      <td>No</td>\n",
       "      <td>No</td>\n",
       "      <td>No</td>\n",
       "      <td>B</td>\n",
       "      <td>No</td>\n",
       "      <td>Mailed check</td>\n",
       "      <td>56.95</td>\n",
       "      <td>1889.50</td>\n",
       "      <td>No</td>\n",
       "      <td>2</td>\n",
       "    </tr>\n",
       "    <tr>\n",
       "      <th>2</th>\n",
       "      <td>3</td>\n",
       "      <td>Male</td>\n",
       "      <td>0</td>\n",
       "      <td>No</td>\n",
       "      <td>No</td>\n",
       "      <td>41</td>\n",
       "      <td>2</td>\n",
       "      <td>Yes</td>\n",
       "      <td>No</td>\n",
       "      <td>B</td>\n",
       "      <td>...</td>\n",
       "      <td>No</td>\n",
       "      <td>No</td>\n",
       "      <td>No</td>\n",
       "      <td>A</td>\n",
       "      <td>Yes</td>\n",
       "      <td>Mailed check</td>\n",
       "      <td>53.85</td>\n",
       "      <td>108.15</td>\n",
       "      <td>Yes</td>\n",
       "      <td>3</td>\n",
       "    </tr>\n",
       "    <tr>\n",
       "      <th>3</th>\n",
       "      <td>4</td>\n",
       "      <td>Male</td>\n",
       "      <td>0</td>\n",
       "      <td>No</td>\n",
       "      <td>No</td>\n",
       "      <td>40</td>\n",
       "      <td>45</td>\n",
       "      <td>No</td>\n",
       "      <td>NaN</td>\n",
       "      <td>B</td>\n",
       "      <td>...</td>\n",
       "      <td>Yes</td>\n",
       "      <td>No</td>\n",
       "      <td>No</td>\n",
       "      <td>B</td>\n",
       "      <td>No</td>\n",
       "      <td>Bank transfer (automatic)</td>\n",
       "      <td>42.30</td>\n",
       "      <td>1840.75</td>\n",
       "      <td>No</td>\n",
       "      <td>1</td>\n",
       "    </tr>\n",
       "    <tr>\n",
       "      <th>4</th>\n",
       "      <td>5</td>\n",
       "      <td>Female</td>\n",
       "      <td>0</td>\n",
       "      <td>No</td>\n",
       "      <td>No</td>\n",
       "      <td>59</td>\n",
       "      <td>2</td>\n",
       "      <td>Yes</td>\n",
       "      <td>No</td>\n",
       "      <td>A</td>\n",
       "      <td>...</td>\n",
       "      <td>No</td>\n",
       "      <td>No</td>\n",
       "      <td>No</td>\n",
       "      <td>A</td>\n",
       "      <td>Yes</td>\n",
       "      <td>Electronic check</td>\n",
       "      <td>70.70</td>\n",
       "      <td>151.65</td>\n",
       "      <td>Yes</td>\n",
       "      <td>5</td>\n",
       "    </tr>\n",
       "  </tbody>\n",
       "</table>\n",
       "<p>5 rows × 21 columns</p>\n",
       "</div>"
      ],
      "text/plain": [
       "  customerid  gender seniorcitizen partner dependents  age  tenure  \\\n",
       "0          1  Female             0     Yes         No   35       1   \n",
       "1          2    Male             0      No         No   46      34   \n",
       "2          3    Male             0      No         No   41       2   \n",
       "3          4    Male             0      No         No   40      45   \n",
       "4          5  Female             0      No         No   59       2   \n",
       "\n",
       "  busines_loan multiplebusinessloans creditline  ... mortgage stocks forex  \\\n",
       "0           No                   NaN          B  ...       No     No    No   \n",
       "1          Yes                    No          B  ...       No     No    No   \n",
       "2          Yes                    No          B  ...       No     No    No   \n",
       "3           No                   NaN          B  ...      Yes     No    No   \n",
       "4          Yes                    No          A  ...       No     No    No   \n",
       "\n",
       "  contract paperlessbilling              paymentmethod monthlycharges  \\\n",
       "0        A              Yes           Electronic check          29.85   \n",
       "1        B               No               Mailed check          56.95   \n",
       "2        A              Yes               Mailed check          53.85   \n",
       "3        B               No  Bank transfer (automatic)          42.30   \n",
       "4        A              Yes           Electronic check          70.70   \n",
       "\n",
       "   totalcharges  churn_within_a_month satisfactory_onboarding_form  \n",
       "0         29.85                    No                            4  \n",
       "1       1889.50                    No                            2  \n",
       "2        108.15                   Yes                            3  \n",
       "3       1840.75                    No                            1  \n",
       "4        151.65                   Yes                            5  \n",
       "\n",
       "[5 rows x 21 columns]"
      ]
     },
     "execution_count": 4,
     "metadata": {},
     "output_type": "execute_result"
    }
   ],
   "source": [
    "data_manager = DataManager(RAW_DATA_PATH)\n",
    "\n",
    "data_manager.data.head()"
   ]
  },
  {
   "attachments": {},
   "cell_type": "markdown",
   "metadata": {},
   "source": [
    "## Fit model"
   ]
  },
  {
   "cell_type": "code",
   "execution_count": 5,
   "metadata": {},
   "outputs": [],
   "source": [
    "# Initialize model:\n",
    "model = ChurnModel(\n",
    "    numeric_features_list=config[\"model_dtype_treatment\"][\"numeric\"],\n",
    "    categorical_features_list=config[\"model_dtype_treatment\"][\"categorical\"],\n",
    "    response_col=config[\"model_dtype_treatment\"][\"response\"],\n",
    ")"
   ]
  },
  {
   "cell_type": "code",
   "execution_count": 6,
   "metadata": {},
   "outputs": [
    {
     "name": "stderr",
     "output_type": "stream",
     "text": [
      "INFO [ 2023-01-01 21:41:30,912 | parsing.py | data ] Processing raw data.\n",
      "INFO [ 2023-01-01 21:41:30,912 | parsing.py | raw_data ] Reading raw data.\n",
      "INFO [ 2023-01-01 21:41:30,931 | parsing.py | raw_data ] Reading raw data.\n",
      "INFO [ 2023-01-01 21:41:30,966 | model.py | train ] Creating pipeline.\n",
      "INFO [ 2023-01-01 21:41:30,967 | model.py | _make_cls_pipeline ] Creating classification pipeline.\n",
      "INFO [ 2023-01-01 21:41:30,967 | model.py | _make_transformer ] Creating num + cat transformer.\n",
      "INFO [ 2023-01-01 21:41:30,967 | model.py | _make_numeric_transformer ] Creating numeric transformed created.\n",
      "INFO [ 2023-01-01 21:41:30,968 | model.py | _make_scaler ] Creating scaler.\n",
      "INFO [ 2023-01-01 21:41:30,968 | model.py | _make_scaler ] Scaler created.\n",
      "INFO [ 2023-01-01 21:41:30,969 | model.py | _make_numeric_transformer ] Numeric transformed created.\n",
      "INFO [ 2023-01-01 21:41:30,969 | model.py | _make_cat_transformer ] Creating categorical transformer.\n",
      "INFO [ 2023-01-01 21:41:30,969 | model.py | _make_cat_encoder ] Creating one hot encoder.\n",
      "INFO [ 2023-01-01 21:41:30,970 | model.py | _make_cat_encoder ] One hot encoder created.\n",
      "INFO [ 2023-01-01 21:41:30,970 | model.py | _make_cat_transformer ] Categorical transformer created.\n",
      "INFO [ 2023-01-01 21:41:30,971 | model.py | _make_transformer ] Num + cat transformer created.\n",
      "INFO [ 2023-01-01 21:41:30,971 | model.py | _make_rfe_selector ] Creating feature selector.\n",
      "INFO [ 2023-01-01 21:41:30,971 | model.py | _make_rfe_selector ] Feature selector created.\n",
      "INFO [ 2023-01-01 21:41:30,972 | model.py | _make_cls_pipeline ] Classification pipeline created.\n",
      "INFO [ 2023-01-01 21:41:30,972 | model.py | train ] Finished pipeline creation.\n",
      "INFO [ 2023-01-01 21:41:30,980 | model.py | train ] Parameter search started. This may take a while.\n",
      "INFO [ 2023-01-01 21:46:03,149 | model.py | train ] Hyperparameter search completed.\n",
      "INFO [ 2023-01-01 21:46:03,150 | model.py | train ] Generating validation report.\n",
      "INFO [ 2023-01-01 21:46:03,243 | model.py | train ] Finalizing model for inference.\n",
      "INFO [ 2023-01-01 21:46:06,891 | model.py | train ] Model trained and ready for inference.\n"
     ]
    }
   ],
   "source": [
    "# Train model\n",
    "model.train(data_manager.data)"
   ]
  },
  {
   "cell_type": "code",
   "execution_count": 10,
   "metadata": {},
   "outputs": [
    {
     "name": "stderr",
     "output_type": "stream",
     "text": [
      "INFO [ 2023-01-01 22:09:38,943 | parsing.py | data ] Processing raw data.\n",
      "INFO [ 2023-01-01 22:09:38,943 | parsing.py | raw_data ] Reading raw data.\n",
      "INFO [ 2023-01-01 22:09:38,960 | parsing.py | raw_data ] Reading raw data.\n"
     ]
    },
    {
     "data": {
      "text/plain": [
       "array([1, 0, 1, ..., 1, 1, 0])"
      ]
     },
     "execution_count": 10,
     "metadata": {},
     "output_type": "execute_result"
    }
   ],
   "source": [
    "# predict\n",
    "model.model.predict(data_manager.data)"
   ]
  },
  {
   "cell_type": "code",
   "execution_count": 11,
   "metadata": {},
   "outputs": [
    {
     "name": "stderr",
     "output_type": "stream",
     "text": [
      "INFO [ 2023-01-01 22:09:52,735 | model.py | save_model ] Saving model to /Users/heamac0167/Desktop/churn/artefacts/models/model.joblib\n",
      "INFO [ 2023-01-01 22:09:52,818 | model.py | save_model ] Model saved.\n"
     ]
    }
   ],
   "source": [
    "# Save model\n",
    "model.save_model(MODEL_PATH)"
   ]
  },
  {
   "cell_type": "code",
   "execution_count": 12,
   "metadata": {},
   "outputs": [
    {
     "name": "stderr",
     "output_type": "stream",
     "text": [
      "INFO [ 2023-01-01 22:10:10,878 | model.py | load_model ] Loading model from /Users/heamac0167/Desktop/churn/artefacts/models/model.joblib\n",
      "INFO [ 2023-01-01 22:10:10,908 | model.py | load_model ] Model loaded.\n"
     ]
    }
   ],
   "source": [
    "# Load model\n",
    "model.load_model(MODEL_PATH)"
   ]
  },
  {
   "cell_type": "code",
   "execution_count": null,
   "metadata": {},
   "outputs": [],
   "source": []
  }
 ],
 "metadata": {
  "kernelspec": {
   "display_name": "churn_env",
   "language": "python",
   "name": "python3"
  },
  "language_info": {
   "codemirror_mode": {
    "name": "ipython",
    "version": 3
   },
   "file_extension": ".py",
   "mimetype": "text/x-python",
   "name": "python",
   "nbconvert_exporter": "python",
   "pygments_lexer": "ipython3",
   "version": "3.8.15"
  },
  "orig_nbformat": 4,
  "vscode": {
   "interpreter": {
    "hash": "52a5fa4128fabeabd1a474c3f07afb802f2f155ef18591a793682d2eb9fa0962"
   }
  }
 },
 "nbformat": 4,
 "nbformat_minor": 2
}
